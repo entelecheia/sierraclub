{
 "cells": [
  {
   "cell_type": "markdown",
   "id": "b9ecd549",
   "metadata": {},
   "source": [
    "# Examples\n",
    "\n",
    "This page contains a few examples of how you can use SierraClub package.\n",
    "\n",
    "## Installation\n",
    "\n",
    "You can install SierraClub using `pip`:"
   ]
  },
  {
   "cell_type": "code",
   "execution_count": 1,
   "id": "35e37da4",
   "metadata": {},
   "outputs": [
    {
     "name": "stdout",
     "output_type": "stream",
     "text": [
      "Requirement already satisfied: sierraclub in /opt/hostedtoolcache/Python/3.9.19/x64/lib/python3.9/site-packages (0.2.0)\r\n",
      "Requirement already satisfied: click<9.0.0,>=8.1.3 in /opt/hostedtoolcache/Python/3.9.19/x64/lib/python3.9/site-packages (from sierraclub) (8.1.7)\r\n",
      "Requirement already satisfied: fuzzywuzzy<0.19.0,>=0.18.0 in /opt/hostedtoolcache/Python/3.9.19/x64/lib/python3.9/site-packages (from sierraclub) (0.18.0)\r\n",
      "Requirement already satisfied: guardrails-ai<0.5.0,>=0.4.3 in /opt/hostedtoolcache/Python/3.9.19/x64/lib/python3.9/site-packages (from sierraclub) (0.4.3)\r\n",
      "Requirement already satisfied: hyfi<2.0.0,>=1.36.4 in /opt/hostedtoolcache/Python/3.9.19/x64/lib/python3.9/site-packages (from sierraclub) (1.36.4)\r\n",
      "Requirement already satisfied: hyfi-fetcher<0.3.0,>=0.2.2 in /opt/hostedtoolcache/Python/3.9.19/x64/lib/python3.9/site-packages (from sierraclub) (0.2.2)\r\n",
      "Requirement already satisfied: langchain-community<0.0.37,>=0.0.36 in /opt/hostedtoolcache/Python/3.9.19/x64/lib/python3.9/site-packages (from sierraclub) (0.0.36)\r\n",
      "Requirement already satisfied: langchain-openai<0.2.0,>=0.1.4 in /opt/hostedtoolcache/Python/3.9.19/x64/lib/python3.9/site-packages (from sierraclub) (0.1.6)\r\n",
      "Requirement already satisfied: langchain<0.2.0,>=0.1.17 in /opt/hostedtoolcache/Python/3.9.19/x64/lib/python3.9/site-packages (from langchain[openai]<0.2.0,>=0.1.17->sierraclub) (0.1.17)\r\n",
      "Requirement already satisfied: scikit-learn<2.0.0,>=1.4.2 in /opt/hostedtoolcache/Python/3.9.19/x64/lib/python3.9/site-packages (from sierraclub) (1.4.2)\r\n",
      "Requirement already satisfied: thefuzz<0.23.0,>=0.22.1 in /opt/hostedtoolcache/Python/3.9.19/x64/lib/python3.9/site-packages (from sierraclub) (0.22.1)\r\n"
     ]
    },
    {
     "name": "stdout",
     "output_type": "stream",
     "text": [
      "Requirement already satisfied: coloredlogs<16.0.0,>=15.0.1 in /opt/hostedtoolcache/Python/3.9.19/x64/lib/python3.9/site-packages (from guardrails-ai<0.5.0,>=0.4.3->sierraclub) (15.0.1)\r\n",
      "Requirement already satisfied: griffe<0.37.0,>=0.36.9 in /opt/hostedtoolcache/Python/3.9.19/x64/lib/python3.9/site-packages (from guardrails-ai<0.5.0,>=0.4.3->sierraclub) (0.36.9)\r\n",
      "Requirement already satisfied: guardrails-api-client<0.2.0,>=0.1.1 in /opt/hostedtoolcache/Python/3.9.19/x64/lib/python3.9/site-packages (from guardrails-ai<0.5.0,>=0.4.3->sierraclub) (0.1.1)\r\n",
      "Requirement already satisfied: jwt<2.0.0,>=1.3.1 in /opt/hostedtoolcache/Python/3.9.19/x64/lib/python3.9/site-packages (from guardrails-ai<0.5.0,>=0.4.3->sierraclub) (1.3.1)\r\n",
      "Requirement already satisfied: langchain-core<0.2.0,>=0.1.18 in /opt/hostedtoolcache/Python/3.9.19/x64/lib/python3.9/site-packages (from guardrails-ai<0.5.0,>=0.4.3->sierraclub) (0.1.50)\r\n",
      "Requirement already satisfied: lxml<5.0.0,>=4.9.3 in /opt/hostedtoolcache/Python/3.9.19/x64/lib/python3.9/site-packages (from guardrails-ai<0.5.0,>=0.4.3->sierraclub) (4.9.4)\r\n",
      "Requirement already satisfied: openai<2 in /opt/hostedtoolcache/Python/3.9.19/x64/lib/python3.9/site-packages (from guardrails-ai<0.5.0,>=0.4.3->sierraclub) (1.25.2)\r\n",
      "Requirement already satisfied: opentelemetry-exporter-otlp-proto-grpc==1.20.0 in /opt/hostedtoolcache/Python/3.9.19/x64/lib/python3.9/site-packages (from guardrails-ai<0.5.0,>=0.4.3->sierraclub) (1.20.0)\r\n",
      "Requirement already satisfied: opentelemetry-exporter-otlp-proto-http==1.20.0 in /opt/hostedtoolcache/Python/3.9.19/x64/lib/python3.9/site-packages (from guardrails-ai<0.5.0,>=0.4.3->sierraclub) (1.20.0)\r\n",
      "Requirement already satisfied: opentelemetry-sdk==1.20.0 in /opt/hostedtoolcache/Python/3.9.19/x64/lib/python3.9/site-packages (from guardrails-ai<0.5.0,>=0.4.3->sierraclub) (1.20.0)\r\n",
      "Requirement already satisfied: pydantic<3.0,>=1.10.9 in /opt/hostedtoolcache/Python/3.9.19/x64/lib/python3.9/site-packages (from guardrails-ai<0.5.0,>=0.4.3->sierraclub) (2.7.1)\r\n",
      "Requirement already satisfied: pydash<8.0.0,>=7.0.6 in /opt/hostedtoolcache/Python/3.9.19/x64/lib/python3.9/site-packages (from guardrails-ai<0.5.0,>=0.4.3->sierraclub) (7.0.7)\r\n",
      "Requirement already satisfied: python-dateutil<3.0.0,>=2.8.2 in /opt/hostedtoolcache/Python/3.9.19/x64/lib/python3.9/site-packages (from guardrails-ai<0.5.0,>=0.4.3->sierraclub) (2.9.0.post0)\r\n",
      "Requirement already satisfied: regex<2024.0.0,>=2023.10.3 in /opt/hostedtoolcache/Python/3.9.19/x64/lib/python3.9/site-packages (from guardrails-ai<0.5.0,>=0.4.3->sierraclub) (2023.12.25)\r\n",
      "Requirement already satisfied: requests<3.0.0,>=2.31.0 in /opt/hostedtoolcache/Python/3.9.19/x64/lib/python3.9/site-packages (from guardrails-ai<0.5.0,>=0.4.3->sierraclub) (2.31.0)\r\n",
      "Requirement already satisfied: rich<14.0.0,>=13.6.0 in /opt/hostedtoolcache/Python/3.9.19/x64/lib/python3.9/site-packages (from guardrails-ai<0.5.0,>=0.4.3->sierraclub) (13.7.1)\r\n",
      "Requirement already satisfied: rstr<4.0.0,>=3.2.2 in /opt/hostedtoolcache/Python/3.9.19/x64/lib/python3.9/site-packages (from guardrails-ai<0.5.0,>=0.4.3->sierraclub) (3.2.2)\r\n",
      "Requirement already satisfied: tenacity>=8.1.0 in /opt/hostedtoolcache/Python/3.9.19/x64/lib/python3.9/site-packages (from guardrails-ai<0.5.0,>=0.4.3->sierraclub) (8.2.3)\r\n",
      "Requirement already satisfied: tiktoken<0.6.0,>=0.5.1 in /opt/hostedtoolcache/Python/3.9.19/x64/lib/python3.9/site-packages (from guardrails-ai<0.5.0,>=0.4.3->sierraclub) (0.5.2)\r\n"
     ]
    },
    {
     "name": "stdout",
     "output_type": "stream",
     "text": [
      "Requirement already satisfied: typer<0.10.0,>=0.9.0 in /opt/hostedtoolcache/Python/3.9.19/x64/lib/python3.9/site-packages (from typer[all]<0.10.0,>=0.9.0->guardrails-ai<0.5.0,>=0.4.3->sierraclub) (0.9.4)\r\n",
      "Requirement already satisfied: typing-extensions<5.0.0,>=4.8.0 in /opt/hostedtoolcache/Python/3.9.19/x64/lib/python3.9/site-packages (from guardrails-ai<0.5.0,>=0.4.3->sierraclub) (4.11.0)\r\n",
      "Requirement already satisfied: backoff<3.0.0,>=1.10.0 in /opt/hostedtoolcache/Python/3.9.19/x64/lib/python3.9/site-packages (from opentelemetry-exporter-otlp-proto-grpc==1.20.0->guardrails-ai<0.5.0,>=0.4.3->sierraclub) (2.2.1)\r\n",
      "Requirement already satisfied: deprecated>=1.2.6 in /opt/hostedtoolcache/Python/3.9.19/x64/lib/python3.9/site-packages (from opentelemetry-exporter-otlp-proto-grpc==1.20.0->guardrails-ai<0.5.0,>=0.4.3->sierraclub) (1.2.14)\r\n",
      "Requirement already satisfied: googleapis-common-protos~=1.52 in /opt/hostedtoolcache/Python/3.9.19/x64/lib/python3.9/site-packages (from opentelemetry-exporter-otlp-proto-grpc==1.20.0->guardrails-ai<0.5.0,>=0.4.3->sierraclub) (1.63.0)\r\n",
      "Requirement already satisfied: grpcio<2.0.0,>=1.0.0 in /opt/hostedtoolcache/Python/3.9.19/x64/lib/python3.9/site-packages (from opentelemetry-exporter-otlp-proto-grpc==1.20.0->guardrails-ai<0.5.0,>=0.4.3->sierraclub) (1.63.0)\r\n",
      "Requirement already satisfied: opentelemetry-api~=1.15 in /opt/hostedtoolcache/Python/3.9.19/x64/lib/python3.9/site-packages (from opentelemetry-exporter-otlp-proto-grpc==1.20.0->guardrails-ai<0.5.0,>=0.4.3->sierraclub) (1.20.0)\r\n",
      "Requirement already satisfied: opentelemetry-exporter-otlp-proto-common==1.20.0 in /opt/hostedtoolcache/Python/3.9.19/x64/lib/python3.9/site-packages (from opentelemetry-exporter-otlp-proto-grpc==1.20.0->guardrails-ai<0.5.0,>=0.4.3->sierraclub) (1.20.0)\r\n",
      "Requirement already satisfied: opentelemetry-proto==1.20.0 in /opt/hostedtoolcache/Python/3.9.19/x64/lib/python3.9/site-packages (from opentelemetry-exporter-otlp-proto-grpc==1.20.0->guardrails-ai<0.5.0,>=0.4.3->sierraclub) (1.20.0)\r\n",
      "Requirement already satisfied: opentelemetry-semantic-conventions==0.41b0 in /opt/hostedtoolcache/Python/3.9.19/x64/lib/python3.9/site-packages (from opentelemetry-sdk==1.20.0->guardrails-ai<0.5.0,>=0.4.3->sierraclub) (0.41b0)\r\n",
      "Requirement already satisfied: importlib-metadata<7.0,>=6.0 in /opt/hostedtoolcache/Python/3.9.19/x64/lib/python3.9/site-packages (from opentelemetry-api~=1.15->opentelemetry-exporter-otlp-proto-grpc==1.20.0->guardrails-ai<0.5.0,>=0.4.3->sierraclub) (6.11.0)\r\n",
      "Requirement already satisfied: protobuf<5.0,>=3.19 in /opt/hostedtoolcache/Python/3.9.19/x64/lib/python3.9/site-packages (from opentelemetry-proto==1.20.0->opentelemetry-exporter-otlp-proto-grpc==1.20.0->guardrails-ai<0.5.0,>=0.4.3->sierraclub) (4.25.3)\r\n"
     ]
    },
    {
     "name": "stdout",
     "output_type": "stream",
     "text": [
      "Requirement already satisfied: chardet<=5.2.0 in /opt/hostedtoolcache/Python/3.9.19/x64/lib/python3.9/site-packages (from hyfi<2.0.0,>=1.36.4->sierraclub) (5.2.0)\r\n",
      "Requirement already satisfied: colorama<0.5.0,>=0.4.3 in /opt/hostedtoolcache/Python/3.9.19/x64/lib/python3.9/site-packages (from hyfi<2.0.0,>=1.36.4->sierraclub) (0.4.6)\r\n",
      "Requirement already satisfied: datasets<=2.18.0,>=2.0.0 in /opt/hostedtoolcache/Python/3.9.19/x64/lib/python3.9/site-packages (from hyfi<2.0.0,>=1.36.4->sierraclub) (2.18.0)\r\n",
      "Requirement already satisfied: gdown<=5.1.0 in /opt/hostedtoolcache/Python/3.9.19/x64/lib/python3.9/site-packages (from hyfi<2.0.0,>=1.36.4->sierraclub) (5.1.0)\r\n",
      "Requirement already satisfied: hydra-colorlog<2.0.0,>=1.2.0 in /opt/hostedtoolcache/Python/3.9.19/x64/lib/python3.9/site-packages (from hyfi<2.0.0,>=1.36.4->sierraclub) (1.2.0)\r\n",
      "Requirement already satisfied: hydra-core<2.0.0,>=1.3.2 in /opt/hostedtoolcache/Python/3.9.19/x64/lib/python3.9/site-packages (from hyfi<2.0.0,>=1.36.4->sierraclub) (1.3.2)\r\n",
      "Requirement already satisfied: joblib<=1.3.2,>=1.2.0 in /opt/hostedtoolcache/Python/3.9.19/x64/lib/python3.9/site-packages (from hyfi<2.0.0,>=1.36.4->sierraclub) (1.3.2)\r\n",
      "Requirement already satisfied: matplotlib<=3.7.1 in /opt/hostedtoolcache/Python/3.9.19/x64/lib/python3.9/site-packages (from hyfi<2.0.0,>=1.36.4->sierraclub) (3.7.1)\r\n",
      "Requirement already satisfied: numpy<=1.26.4,>=1.26.0 in /opt/hostedtoolcache/Python/3.9.19/x64/lib/python3.9/site-packages (from hyfi<2.0.0,>=1.36.4->sierraclub) (1.26.4)\r\n",
      "Requirement already satisfied: pandas<=2.2.1,>=1.5.3 in /opt/hostedtoolcache/Python/3.9.19/x64/lib/python3.9/site-packages (from hyfi<2.0.0,>=1.36.4->sierraclub) (2.2.1)\r\n",
      "Requirement already satisfied: pathspec>=0.9.0 in /opt/hostedtoolcache/Python/3.9.19/x64/lib/python3.9/site-packages (from hyfi<2.0.0,>=1.36.4->sierraclub) (0.12.1)\r\n",
      "Requirement already satisfied: pyarrow<=15.0.2 in /opt/hostedtoolcache/Python/3.9.19/x64/lib/python3.9/site-packages (from hyfi<2.0.0,>=1.36.4->sierraclub) (15.0.2)\r\n",
      "Requirement already satisfied: pydantic-settings<3.0.0,>=2.0.1 in /opt/hostedtoolcache/Python/3.9.19/x64/lib/python3.9/site-packages (from hyfi<2.0.0,>=1.36.4->sierraclub) (2.2.1)\r\n",
      "Requirement already satisfied: python-dotenv<2.0.0,>=1.0.0 in /opt/hostedtoolcache/Python/3.9.19/x64/lib/python3.9/site-packages (from hyfi<2.0.0,>=1.36.4->sierraclub) (1.0.1)\r\n",
      "Requirement already satisfied: scipy<=1.12.0,>1.10.0 in /opt/hostedtoolcache/Python/3.9.19/x64/lib/python3.9/site-packages (from hyfi<2.0.0,>=1.36.4->sierraclub) (1.12.0)\r\n",
      "Requirement already satisfied: tqdm<5.0.0,>=4.64.1 in /opt/hostedtoolcache/Python/3.9.19/x64/lib/python3.9/site-packages (from hyfi<2.0.0,>=1.36.4->sierraclub) (4.66.4)\r\n",
      "Requirement already satisfied: playwright<2.0.0,>=1.43.0 in /opt/hostedtoolcache/Python/3.9.19/x64/lib/python3.9/site-packages (from hyfi-fetcher<0.3.0,>=0.2.2->sierraclub) (1.43.0)\r\n"
     ]
    },
    {
     "name": "stdout",
     "output_type": "stream",
     "text": [
      "Requirement already satisfied: PyYAML>=5.3 in /opt/hostedtoolcache/Python/3.9.19/x64/lib/python3.9/site-packages (from langchain<0.2.0,>=0.1.17->langchain[openai]<0.2.0,>=0.1.17->sierraclub) (6.0.1)\r\n",
      "Requirement already satisfied: SQLAlchemy<3,>=1.4 in /opt/hostedtoolcache/Python/3.9.19/x64/lib/python3.9/site-packages (from langchain<0.2.0,>=0.1.17->langchain[openai]<0.2.0,>=0.1.17->sierraclub) (2.0.30)\r\n",
      "Requirement already satisfied: aiohttp<4.0.0,>=3.8.3 in /opt/hostedtoolcache/Python/3.9.19/x64/lib/python3.9/site-packages (from langchain<0.2.0,>=0.1.17->langchain[openai]<0.2.0,>=0.1.17->sierraclub) (3.9.5)\r\n",
      "Requirement already satisfied: async-timeout<5.0.0,>=4.0.0 in /opt/hostedtoolcache/Python/3.9.19/x64/lib/python3.9/site-packages (from langchain<0.2.0,>=0.1.17->langchain[openai]<0.2.0,>=0.1.17->sierraclub) (4.0.3)\r\n",
      "Requirement already satisfied: dataclasses-json<0.7,>=0.5.7 in /opt/hostedtoolcache/Python/3.9.19/x64/lib/python3.9/site-packages (from langchain<0.2.0,>=0.1.17->langchain[openai]<0.2.0,>=0.1.17->sierraclub) (0.6.5)\r\n",
      "Requirement already satisfied: jsonpatch<2.0,>=1.33 in /opt/hostedtoolcache/Python/3.9.19/x64/lib/python3.9/site-packages (from langchain<0.2.0,>=0.1.17->langchain[openai]<0.2.0,>=0.1.17->sierraclub) (1.33)\r\n",
      "Requirement already satisfied: langchain-text-splitters<0.1,>=0.0.1 in /opt/hostedtoolcache/Python/3.9.19/x64/lib/python3.9/site-packages (from langchain<0.2.0,>=0.1.17->langchain[openai]<0.2.0,>=0.1.17->sierraclub) (0.0.1)\r\n",
      "Requirement already satisfied: langsmith<0.2.0,>=0.1.17 in /opt/hostedtoolcache/Python/3.9.19/x64/lib/python3.9/site-packages (from langchain<0.2.0,>=0.1.17->langchain[openai]<0.2.0,>=0.1.17->sierraclub) (0.1.54)\r\n"
     ]
    },
    {
     "name": "stdout",
     "output_type": "stream",
     "text": [
      "Requirement already satisfied: threadpoolctl>=2.0.0 in /opt/hostedtoolcache/Python/3.9.19/x64/lib/python3.9/site-packages (from scikit-learn<2.0.0,>=1.4.2->sierraclub) (3.5.0)\r\n",
      "Requirement already satisfied: rapidfuzz<4.0.0,>=3.0.0 in /opt/hostedtoolcache/Python/3.9.19/x64/lib/python3.9/site-packages (from thefuzz<0.23.0,>=0.22.1->sierraclub) (3.9.0)\r\n",
      "Requirement already satisfied: aiosignal>=1.1.2 in /opt/hostedtoolcache/Python/3.9.19/x64/lib/python3.9/site-packages (from aiohttp<4.0.0,>=3.8.3->langchain<0.2.0,>=0.1.17->langchain[openai]<0.2.0,>=0.1.17->sierraclub) (1.3.1)\r\n",
      "Requirement already satisfied: attrs>=17.3.0 in /opt/hostedtoolcache/Python/3.9.19/x64/lib/python3.9/site-packages (from aiohttp<4.0.0,>=3.8.3->langchain<0.2.0,>=0.1.17->langchain[openai]<0.2.0,>=0.1.17->sierraclub) (23.2.0)\r\n",
      "Requirement already satisfied: frozenlist>=1.1.1 in /opt/hostedtoolcache/Python/3.9.19/x64/lib/python3.9/site-packages (from aiohttp<4.0.0,>=3.8.3->langchain<0.2.0,>=0.1.17->langchain[openai]<0.2.0,>=0.1.17->sierraclub) (1.4.1)\r\n",
      "Requirement already satisfied: multidict<7.0,>=4.5 in /opt/hostedtoolcache/Python/3.9.19/x64/lib/python3.9/site-packages (from aiohttp<4.0.0,>=3.8.3->langchain<0.2.0,>=0.1.17->langchain[openai]<0.2.0,>=0.1.17->sierraclub) (6.0.5)\r\n",
      "Requirement already satisfied: yarl<2.0,>=1.0 in /opt/hostedtoolcache/Python/3.9.19/x64/lib/python3.9/site-packages (from aiohttp<4.0.0,>=3.8.3->langchain<0.2.0,>=0.1.17->langchain[openai]<0.2.0,>=0.1.17->sierraclub) (1.9.4)\r\n"
     ]
    },
    {
     "name": "stdout",
     "output_type": "stream",
     "text": [
      "Requirement already satisfied: humanfriendly>=9.1 in /opt/hostedtoolcache/Python/3.9.19/x64/lib/python3.9/site-packages (from coloredlogs<16.0.0,>=15.0.1->guardrails-ai<0.5.0,>=0.4.3->sierraclub) (10.0)\r\n",
      "Requirement already satisfied: marshmallow<4.0.0,>=3.18.0 in /opt/hostedtoolcache/Python/3.9.19/x64/lib/python3.9/site-packages (from dataclasses-json<0.7,>=0.5.7->langchain<0.2.0,>=0.1.17->langchain[openai]<0.2.0,>=0.1.17->sierraclub) (3.21.2)\r\n",
      "Requirement already satisfied: typing-inspect<1,>=0.4.0 in /opt/hostedtoolcache/Python/3.9.19/x64/lib/python3.9/site-packages (from dataclasses-json<0.7,>=0.5.7->langchain<0.2.0,>=0.1.17->langchain[openai]<0.2.0,>=0.1.17->sierraclub) (0.9.0)\r\n"
     ]
    },
    {
     "name": "stdout",
     "output_type": "stream",
     "text": [
      "Requirement already satisfied: filelock in /opt/hostedtoolcache/Python/3.9.19/x64/lib/python3.9/site-packages (from datasets<=2.18.0,>=2.0.0->hyfi<2.0.0,>=1.36.4->sierraclub) (3.14.0)\r\n",
      "Requirement already satisfied: pyarrow-hotfix in /opt/hostedtoolcache/Python/3.9.19/x64/lib/python3.9/site-packages (from datasets<=2.18.0,>=2.0.0->hyfi<2.0.0,>=1.36.4->sierraclub) (0.6)\r\n",
      "Requirement already satisfied: dill<0.3.9,>=0.3.0 in /opt/hostedtoolcache/Python/3.9.19/x64/lib/python3.9/site-packages (from datasets<=2.18.0,>=2.0.0->hyfi<2.0.0,>=1.36.4->sierraclub) (0.3.8)\r\n",
      "Requirement already satisfied: xxhash in /opt/hostedtoolcache/Python/3.9.19/x64/lib/python3.9/site-packages (from datasets<=2.18.0,>=2.0.0->hyfi<2.0.0,>=1.36.4->sierraclub) (3.4.1)\r\n",
      "Requirement already satisfied: multiprocess in /opt/hostedtoolcache/Python/3.9.19/x64/lib/python3.9/site-packages (from datasets<=2.18.0,>=2.0.0->hyfi<2.0.0,>=1.36.4->sierraclub) (0.70.16)\r\n",
      "Requirement already satisfied: fsspec<=2024.2.0,>=2023.1.0 in /opt/hostedtoolcache/Python/3.9.19/x64/lib/python3.9/site-packages (from fsspec[http]<=2024.2.0,>=2023.1.0->datasets<=2.18.0,>=2.0.0->hyfi<2.0.0,>=1.36.4->sierraclub) (2024.2.0)\r\n",
      "Requirement already satisfied: huggingface-hub>=0.19.4 in /opt/hostedtoolcache/Python/3.9.19/x64/lib/python3.9/site-packages (from datasets<=2.18.0,>=2.0.0->hyfi<2.0.0,>=1.36.4->sierraclub) (0.23.0)\r\n",
      "Requirement already satisfied: packaging in /opt/hostedtoolcache/Python/3.9.19/x64/lib/python3.9/site-packages (from datasets<=2.18.0,>=2.0.0->hyfi<2.0.0,>=1.36.4->sierraclub) (23.2)\r\n",
      "Requirement already satisfied: beautifulsoup4 in /opt/hostedtoolcache/Python/3.9.19/x64/lib/python3.9/site-packages (from gdown<=5.1.0->hyfi<2.0.0,>=1.36.4->sierraclub) (4.12.3)\r\n"
     ]
    },
    {
     "name": "stdout",
     "output_type": "stream",
     "text": [
      "Requirement already satisfied: httpx<0.28.0,>=0.20.0 in /opt/hostedtoolcache/Python/3.9.19/x64/lib/python3.9/site-packages (from guardrails-api-client<0.2.0,>=0.1.1->guardrails-ai<0.5.0,>=0.4.3->sierraclub) (0.27.0)\r\n",
      "Requirement already satisfied: colorlog in /opt/hostedtoolcache/Python/3.9.19/x64/lib/python3.9/site-packages (from hydra-colorlog<2.0.0,>=1.2.0->hyfi<2.0.0,>=1.36.4->sierraclub) (6.8.2)\r\n",
      "Requirement already satisfied: omegaconf<2.4,>=2.2 in /opt/hostedtoolcache/Python/3.9.19/x64/lib/python3.9/site-packages (from hydra-core<2.0.0,>=1.3.2->hyfi<2.0.0,>=1.36.4->sierraclub) (2.3.0)\r\n",
      "Requirement already satisfied: antlr4-python3-runtime==4.9.* in /opt/hostedtoolcache/Python/3.9.19/x64/lib/python3.9/site-packages (from hydra-core<2.0.0,>=1.3.2->hyfi<2.0.0,>=1.36.4->sierraclub) (4.9.3)\r\n",
      "Requirement already satisfied: jsonpointer>=1.9 in /opt/hostedtoolcache/Python/3.9.19/x64/lib/python3.9/site-packages (from jsonpatch<2.0,>=1.33->langchain<0.2.0,>=0.1.17->langchain[openai]<0.2.0,>=0.1.17->sierraclub) (2.4)\r\n",
      "Requirement already satisfied: cryptography!=3.4.0,>=3.1 in /opt/hostedtoolcache/Python/3.9.19/x64/lib/python3.9/site-packages (from jwt<2.0.0,>=1.3.1->guardrails-ai<0.5.0,>=0.4.3->sierraclub) (42.0.6)\r\n"
     ]
    },
    {
     "name": "stdout",
     "output_type": "stream",
     "text": [
      "Requirement already satisfied: orjson<4.0.0,>=3.9.14 in /opt/hostedtoolcache/Python/3.9.19/x64/lib/python3.9/site-packages (from langsmith<0.2.0,>=0.1.17->langchain<0.2.0,>=0.1.17->langchain[openai]<0.2.0,>=0.1.17->sierraclub) (3.10.3)\r\n",
      "Requirement already satisfied: contourpy>=1.0.1 in /opt/hostedtoolcache/Python/3.9.19/x64/lib/python3.9/site-packages (from matplotlib<=3.7.1->hyfi<2.0.0,>=1.36.4->sierraclub) (1.2.1)\r\n",
      "Requirement already satisfied: cycler>=0.10 in /opt/hostedtoolcache/Python/3.9.19/x64/lib/python3.9/site-packages (from matplotlib<=3.7.1->hyfi<2.0.0,>=1.36.4->sierraclub) (0.12.1)\r\n",
      "Requirement already satisfied: fonttools>=4.22.0 in /opt/hostedtoolcache/Python/3.9.19/x64/lib/python3.9/site-packages (from matplotlib<=3.7.1->hyfi<2.0.0,>=1.36.4->sierraclub) (4.51.0)\r\n",
      "Requirement already satisfied: kiwisolver>=1.0.1 in /opt/hostedtoolcache/Python/3.9.19/x64/lib/python3.9/site-packages (from matplotlib<=3.7.1->hyfi<2.0.0,>=1.36.4->sierraclub) (1.4.5)\r\n",
      "Requirement already satisfied: pillow>=6.2.0 in /opt/hostedtoolcache/Python/3.9.19/x64/lib/python3.9/site-packages (from matplotlib<=3.7.1->hyfi<2.0.0,>=1.36.4->sierraclub) (10.3.0)\r\n",
      "Requirement already satisfied: pyparsing>=2.3.1 in /opt/hostedtoolcache/Python/3.9.19/x64/lib/python3.9/site-packages (from matplotlib<=3.7.1->hyfi<2.0.0,>=1.36.4->sierraclub) (3.1.2)\r\n",
      "Requirement already satisfied: importlib-resources>=3.2.0 in /opt/hostedtoolcache/Python/3.9.19/x64/lib/python3.9/site-packages (from matplotlib<=3.7.1->hyfi<2.0.0,>=1.36.4->sierraclub) (6.4.0)\r\n"
     ]
    },
    {
     "name": "stdout",
     "output_type": "stream",
     "text": [
      "Requirement already satisfied: anyio<5,>=3.5.0 in /opt/hostedtoolcache/Python/3.9.19/x64/lib/python3.9/site-packages (from openai<2->guardrails-ai<0.5.0,>=0.4.3->sierraclub) (4.3.0)\r\n",
      "Requirement already satisfied: distro<2,>=1.7.0 in /opt/hostedtoolcache/Python/3.9.19/x64/lib/python3.9/site-packages (from openai<2->guardrails-ai<0.5.0,>=0.4.3->sierraclub) (1.9.0)\r\n",
      "Requirement already satisfied: sniffio in /opt/hostedtoolcache/Python/3.9.19/x64/lib/python3.9/site-packages (from openai<2->guardrails-ai<0.5.0,>=0.4.3->sierraclub) (1.3.1)\r\n"
     ]
    },
    {
     "name": "stdout",
     "output_type": "stream",
     "text": [
      "Requirement already satisfied: pytz>=2020.1 in /opt/hostedtoolcache/Python/3.9.19/x64/lib/python3.9/site-packages (from pandas<=2.2.1,>=1.5.3->hyfi<2.0.0,>=1.36.4->sierraclub) (2024.1)\r\n",
      "Requirement already satisfied: tzdata>=2022.7 in /opt/hostedtoolcache/Python/3.9.19/x64/lib/python3.9/site-packages (from pandas<=2.2.1,>=1.5.3->hyfi<2.0.0,>=1.36.4->sierraclub) (2024.1)\r\n",
      "Requirement already satisfied: greenlet==3.0.3 in /opt/hostedtoolcache/Python/3.9.19/x64/lib/python3.9/site-packages (from playwright<2.0.0,>=1.43.0->hyfi-fetcher<0.3.0,>=0.2.2->sierraclub) (3.0.3)\r\n",
      "Requirement already satisfied: pyee==11.1.0 in /opt/hostedtoolcache/Python/3.9.19/x64/lib/python3.9/site-packages (from playwright<2.0.0,>=1.43.0->hyfi-fetcher<0.3.0,>=0.2.2->sierraclub) (11.1.0)\r\n"
     ]
    },
    {
     "name": "stdout",
     "output_type": "stream",
     "text": [
      "Requirement already satisfied: annotated-types>=0.4.0 in /opt/hostedtoolcache/Python/3.9.19/x64/lib/python3.9/site-packages (from pydantic<3.0,>=1.10.9->guardrails-ai<0.5.0,>=0.4.3->sierraclub) (0.6.0)\r\n",
      "Requirement already satisfied: pydantic-core==2.18.2 in /opt/hostedtoolcache/Python/3.9.19/x64/lib/python3.9/site-packages (from pydantic<3.0,>=1.10.9->guardrails-ai<0.5.0,>=0.4.3->sierraclub) (2.18.2)\r\n"
     ]
    },
    {
     "name": "stdout",
     "output_type": "stream",
     "text": [
      "Requirement already satisfied: six>=1.5 in /opt/hostedtoolcache/Python/3.9.19/x64/lib/python3.9/site-packages (from python-dateutil<3.0.0,>=2.8.2->guardrails-ai<0.5.0,>=0.4.3->sierraclub) (1.16.0)\r\n"
     ]
    },
    {
     "name": "stdout",
     "output_type": "stream",
     "text": [
      "Requirement already satisfied: charset-normalizer<4,>=2 in /opt/hostedtoolcache/Python/3.9.19/x64/lib/python3.9/site-packages (from requests<3.0.0,>=2.31.0->guardrails-ai<0.5.0,>=0.4.3->sierraclub) (3.3.2)\r\n",
      "Requirement already satisfied: idna<4,>=2.5 in /opt/hostedtoolcache/Python/3.9.19/x64/lib/python3.9/site-packages (from requests<3.0.0,>=2.31.0->guardrails-ai<0.5.0,>=0.4.3->sierraclub) (3.7)\r\n",
      "Requirement already satisfied: urllib3<3,>=1.21.1 in /opt/hostedtoolcache/Python/3.9.19/x64/lib/python3.9/site-packages (from requests<3.0.0,>=2.31.0->guardrails-ai<0.5.0,>=0.4.3->sierraclub) (2.2.1)\r\n",
      "Requirement already satisfied: certifi>=2017.4.17 in /opt/hostedtoolcache/Python/3.9.19/x64/lib/python3.9/site-packages (from requests<3.0.0,>=2.31.0->guardrails-ai<0.5.0,>=0.4.3->sierraclub) (2024.2.2)\r\n",
      "Requirement already satisfied: markdown-it-py>=2.2.0 in /opt/hostedtoolcache/Python/3.9.19/x64/lib/python3.9/site-packages (from rich<14.0.0,>=13.6.0->guardrails-ai<0.5.0,>=0.4.3->sierraclub) (3.0.0)\r\n",
      "Requirement already satisfied: pygments<3.0.0,>=2.13.0 in /opt/hostedtoolcache/Python/3.9.19/x64/lib/python3.9/site-packages (from rich<14.0.0,>=13.6.0->guardrails-ai<0.5.0,>=0.4.3->sierraclub) (2.18.0)\r\n"
     ]
    },
    {
     "name": "stdout",
     "output_type": "stream",
     "text": [
      "Requirement already satisfied: shellingham<2.0.0,>=1.3.0 in /opt/hostedtoolcache/Python/3.9.19/x64/lib/python3.9/site-packages (from typer[all]<0.10.0,>=0.9.0->guardrails-ai<0.5.0,>=0.4.3->sierraclub) (1.5.4)\r\n"
     ]
    },
    {
     "name": "stdout",
     "output_type": "stream",
     "text": [
      "Requirement already satisfied: exceptiongroup>=1.0.2 in /opt/hostedtoolcache/Python/3.9.19/x64/lib/python3.9/site-packages (from anyio<5,>=3.5.0->openai<2->guardrails-ai<0.5.0,>=0.4.3->sierraclub) (1.2.1)\r\n"
     ]
    },
    {
     "name": "stdout",
     "output_type": "stream",
     "text": [
      "Requirement already satisfied: cffi>=1.12 in /opt/hostedtoolcache/Python/3.9.19/x64/lib/python3.9/site-packages (from cryptography!=3.4.0,>=3.1->jwt<2.0.0,>=1.3.1->guardrails-ai<0.5.0,>=0.4.3->sierraclub) (1.16.0)\r\n",
      "Requirement already satisfied: wrapt<2,>=1.10 in /opt/hostedtoolcache/Python/3.9.19/x64/lib/python3.9/site-packages (from deprecated>=1.2.6->opentelemetry-exporter-otlp-proto-grpc==1.20.0->guardrails-ai<0.5.0,>=0.4.3->sierraclub) (1.16.0)\r\n"
     ]
    },
    {
     "name": "stdout",
     "output_type": "stream",
     "text": [
      "Requirement already satisfied: httpcore==1.* in /opt/hostedtoolcache/Python/3.9.19/x64/lib/python3.9/site-packages (from httpx<0.28.0,>=0.20.0->guardrails-api-client<0.2.0,>=0.1.1->guardrails-ai<0.5.0,>=0.4.3->sierraclub) (1.0.5)\r\n"
     ]
    },
    {
     "name": "stdout",
     "output_type": "stream",
     "text": [
      "Requirement already satisfied: h11<0.15,>=0.13 in /opt/hostedtoolcache/Python/3.9.19/x64/lib/python3.9/site-packages (from httpcore==1.*->httpx<0.28.0,>=0.20.0->guardrails-api-client<0.2.0,>=0.1.1->guardrails-ai<0.5.0,>=0.4.3->sierraclub) (0.14.0)\r\n"
     ]
    },
    {
     "name": "stdout",
     "output_type": "stream",
     "text": [
      "Requirement already satisfied: zipp>=3.1.0 in /opt/hostedtoolcache/Python/3.9.19/x64/lib/python3.9/site-packages (from importlib-resources>=3.2.0->matplotlib<=3.7.1->hyfi<2.0.0,>=1.36.4->sierraclub) (3.18.1)\r\n"
     ]
    },
    {
     "name": "stdout",
     "output_type": "stream",
     "text": [
      "Requirement already satisfied: mdurl~=0.1 in /opt/hostedtoolcache/Python/3.9.19/x64/lib/python3.9/site-packages (from markdown-it-py>=2.2.0->rich<14.0.0,>=13.6.0->guardrails-ai<0.5.0,>=0.4.3->sierraclub) (0.1.2)\r\n"
     ]
    },
    {
     "name": "stdout",
     "output_type": "stream",
     "text": [
      "Requirement already satisfied: mypy-extensions>=0.3.0 in /opt/hostedtoolcache/Python/3.9.19/x64/lib/python3.9/site-packages (from typing-inspect<1,>=0.4.0->dataclasses-json<0.7,>=0.5.7->langchain<0.2.0,>=0.1.17->langchain[openai]<0.2.0,>=0.1.17->sierraclub) (1.0.0)\r\n"
     ]
    },
    {
     "name": "stdout",
     "output_type": "stream",
     "text": [
      "Requirement already satisfied: soupsieve>1.2 in /opt/hostedtoolcache/Python/3.9.19/x64/lib/python3.9/site-packages (from beautifulsoup4->gdown<=5.1.0->hyfi<2.0.0,>=1.36.4->sierraclub) (2.5)\r\n"
     ]
    },
    {
     "name": "stdout",
     "output_type": "stream",
     "text": [
      "Requirement already satisfied: PySocks!=1.5.7,>=1.5.6 in /opt/hostedtoolcache/Python/3.9.19/x64/lib/python3.9/site-packages (from requests[socks]->gdown<=5.1.0->hyfi<2.0.0,>=1.36.4->sierraclub) (1.7.1)\r\n"
     ]
    },
    {
     "name": "stdout",
     "output_type": "stream",
     "text": [
      "Requirement already satisfied: pycparser in /opt/hostedtoolcache/Python/3.9.19/x64/lib/python3.9/site-packages (from cffi>=1.12->cryptography!=3.4.0,>=3.1->jwt<2.0.0,>=1.3.1->guardrails-ai<0.5.0,>=0.4.3->sierraclub) (2.22)\r\n"
     ]
    },
    {
     "name": "stdout",
     "output_type": "stream",
     "text": [
      "\r\n",
      "\u001b[1m[\u001b[0m\u001b[34;49mnotice\u001b[0m\u001b[1;39;49m]\u001b[0m\u001b[39;49m A new release of pip is available: \u001b[0m\u001b[31;49m23.0.1\u001b[0m\u001b[39;49m -> \u001b[0m\u001b[32;49m24.0\u001b[0m\r\n",
      "\u001b[1m[\u001b[0m\u001b[34;49mnotice\u001b[0m\u001b[1;39;49m]\u001b[0m\u001b[39;49m To update, run: \u001b[0m\u001b[32;49mpip install --upgrade pip\u001b[0m\r\n"
     ]
    },
    {
     "name": "stdout",
     "output_type": "stream",
     "text": [
      "Note: you may need to restart the kernel to use updated packages.\n"
     ]
    }
   ],
   "source": [
    "pip install sierraclub"
   ]
  },
  {
   "cell_type": "markdown",
   "id": "adf9a662",
   "metadata": {},
   "source": [
    "## Usage\n",
    "\n",
    "```python\n",
    "from sierra import get_version\n",
    "\n",
    "print(get_version())\n",
    "```"
   ]
  }
 ],
 "metadata": {
  "jupytext": {
   "cell_metadata_filter": "-all",
   "formats": "md:myst",
   "text_representation": {
    "extension": ".md",
    "format_name": "myst",
    "format_version": 0.13,
    "jupytext_version": "1.11.5"
   }
  },
  "kernelspec": {
   "display_name": "Python 3",
   "language": "python",
   "name": "python3"
  },
  "language_info": {
   "codemirror_mode": {
    "name": "ipython",
    "version": 3
   },
   "file_extension": ".py",
   "mimetype": "text/x-python",
   "name": "python",
   "nbconvert_exporter": "python",
   "pygments_lexer": "ipython3",
   "version": "3.9.19"
  },
  "source_map": [
   14,
   24,
   26
  ]
 },
 "nbformat": 4,
 "nbformat_minor": 5
}